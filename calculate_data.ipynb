{
 "cells": [
  {
   "cell_type": "code",
   "execution_count": 1,
   "metadata": {},
   "outputs": [
    {
     "data": {
      "application/vnd.jupyter.widget-view+json": {
       "model_id": "95c98afea01b43d2a4d7286e024f8bfb",
       "version_major": 2,
       "version_minor": 0
      },
      "text/plain": [
       "  0%|          | 0/30 [00:00<?, ?it/s]"
      ]
     },
     "metadata": {},
     "output_type": "display_data"
    },
    {
     "name": "stdout",
     "output_type": "stream",
     "text": [
      "        序号      代码      名称    最新价     涨跌幅    涨跌额  成交量  成交额   振幅  最高  ...  量比  \\\n",
      "0        1  301501    N恒鑫生  92.00  130.46  52.08  NaN  NaN  0.0 NaN  ... NaN   \n",
      "1        2  300227     光韵达  10.78   20.04   1.80  NaN  NaN  0.0 NaN  ... NaN   \n",
      "2        3  300943    春晖智控  16.44   20.00   2.74  NaN  NaN  0.0 NaN  ... NaN   \n",
      "3        4  301456    盘古智能  31.67   19.96   5.27  NaN  NaN  0.0 NaN  ... NaN   \n",
      "4        5  300448    浩云科技   9.08   19.95   1.51  NaN  NaN  0.0 NaN  ... NaN   \n",
      "...    ...     ...     ...    ...     ...    ...  ...  ...  ...  ..  ...  ..   \n",
      "3024  3025  000013  *ST石化A    NaN     NaN    NaN  NaN  NaN  NaN NaN  ... NaN   \n",
      "3025  3026  000005    ST星源    NaN     NaN    NaN  NaN  NaN  NaN NaN  ... NaN   \n",
      "3026  3027  000003   PT金田A    NaN     NaN    NaN  NaN  NaN  NaN NaN  ... NaN   \n",
      "3027  3028  301281    科源制药    NaN     NaN    NaN  NaN  NaN  NaN NaN  ... NaN   \n",
      "3028  3029  300858    科拓生物    NaN     NaN    NaN  NaN  NaN  NaN NaN  ... NaN   \n",
      "\n",
      "      换手率  市盈率-动态   市净率           总市值          流通市值     涨速   5分钟涨跌  60日涨跌幅  \\\n",
      "0     0.0   42.68  4.82  9.384000e+09  2.224963e+09 -23.33  130.46  130.46   \n",
      "1     0.0  123.34  3.36  5.331587e+09  4.447766e+09   0.00   20.04   14.07   \n",
      "2     0.0   63.66  3.49  3.350801e+09  2.208554e+09   0.00   20.00   20.79   \n",
      "3     0.0   63.46  2.23  4.705662e+09  1.860342e+09  -0.03   19.96   22.99   \n",
      "4     0.0  542.78  4.67  6.142775e+09  4.464338e+09   0.00   19.95   11.41   \n",
      "...   ...     ...   ...           ...           ...    ...     ...     ...   \n",
      "3024  0.0     NaN   NaN           NaN           NaN    NaN     NaN    0.00   \n",
      "3025  0.0     NaN   NaN           NaN           NaN    NaN     NaN    0.00   \n",
      "3026  0.0     NaN   NaN           NaN           NaN    NaN     NaN    0.00   \n",
      "3027  0.0   69.38  2.75  3.671031e+09  2.334083e+09    NaN     NaN   -0.38   \n",
      "3028  0.0   36.61  1.97  3.475501e+09  2.555755e+09    NaN     NaN  -20.01   \n",
      "\n",
      "      年初至今涨跌幅  \n",
      "0      130.46  \n",
      "1       29.41  \n",
      "2       27.54  \n",
      "3       40.19  \n",
      "4       37.78  \n",
      "...       ...  \n",
      "3024     0.00  \n",
      "3025     0.00  \n",
      "3026     0.00  \n",
      "3027    13.34  \n",
      "3028    -8.28  \n",
      "\n",
      "[3029 rows x 23 columns]\n"
     ]
    }
   ],
   "source": [
    "import akshare as ak\n",
    "\n",
    "stock_sz_a_spot_em_df = ak.stock_sz_a_spot_em()\n",
    "print(stock_sz_a_spot_em_df)"
   ]
  }
 ],
 "metadata": {
  "kernelspec": {
   "display_name": "agentenv",
   "language": "python",
   "name": "python3"
  },
  "language_info": {
   "codemirror_mode": {
    "name": "ipython",
    "version": 3
   },
   "file_extension": ".py",
   "mimetype": "text/x-python",
   "name": "python",
   "nbconvert_exporter": "python",
   "pygments_lexer": "ipython3",
   "version": "3.10.16"
  }
 },
 "nbformat": 4,
 "nbformat_minor": 2
}
